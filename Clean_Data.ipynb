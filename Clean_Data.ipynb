{
 "cells": [
  {
   "cell_type": "code",
   "execution_count": 21,
   "metadata": {},
   "outputs": [],
   "source": [
    "#This workbook is about cleaning the data that was gathered from LTHOI player data and NFL game data."
   ]
  },
  {
   "cell_type": "code",
   "execution_count": 22,
   "metadata": {},
   "outputs": [],
   "source": [
    "import pandas as pd  #For Bringing in the data and manipulating it\n",
    "import boto3 #For storing to and retreiving from s3\n",
    "import numpy as np #For using mathmatical functions to create the target fields"
   ]
  },
  {
   "cell_type": "code",
   "execution_count": 23,
   "metadata": {},
   "outputs": [],
   "source": [
    "#Pull in the data... If you're not in the same workspace that you're using for creating the data, you'll need to get the CSV from S3.\n",
    "game_data = pd.read_csv('gathered_data.csv')"
   ]
  },
  {
   "cell_type": "code",
   "execution_count": 24,
   "metadata": {},
   "outputs": [],
   "source": [
    "#Trim the start times because they don't matter.  They were only in the data to assist with querying the database.\n",
    "game_data.drop(labels=['originalStartTime', 'startTime'], axis=1, inplace=True)"
   ]
  },
  {
   "cell_type": "code",
   "execution_count": 25,
   "metadata": {},
   "outputs": [],
   "source": [
    "#trim the extra column with the two columns that kept track of week and game in week\n",
    "game_data.drop(labels=['week'], axis=1, inplace=True)\n",
    "game_data = game_data.loc[:, ~game_data.columns.str.contains('Unnamed')]"
   ]
  },
  {
   "cell_type": "code",
   "execution_count": 26,
   "metadata": {},
   "outputs": [],
   "source": [
    "#Remove the venue alegiance field and the team ids... in this small of a sample size, they are not useful.\n",
    "game_data.drop(labels=['venueAliegiance', 'game_id'], axis=1, inplace=True)"
   ]
  },
  {
   "cell_type": "code",
   "execution_count": 27,
   "metadata": {},
   "outputs": [],
   "source": [
    "#Create seperate Pandas for over bets, under bets, home bets, and away bets\n",
    "over_bet_inputs = game_data.copy(deep=True)\n",
    "under_bet_inputs = game_data.copy(deep=True)\n",
    "home_bet_inputs = game_data.copy(deep=True)\n",
    "away_bet_inputs = game_data.copy(deep=True)"
   ]
  },
  {
   "cell_type": "code",
   "execution_count": 28,
   "metadata": {},
   "outputs": [],
   "source": [
    "#For over_bet_inputs create a target field that shows whether an over bet would have been smart (would have won by more than a point)\n",
    "over_bet_inputs['bet_is_smart'] = np.where((over_bet_inputs['awayScore']+over_bet_inputs['homeScore'])>(over_bet_inputs['over_under']+1), 1, 0)"
   ]
  },
  {
   "cell_type": "code",
   "execution_count": 29,
   "metadata": {},
   "outputs": [],
   "source": [
    "#For under_bet_inputs create a target field that shows whether an under bet would have been smart (would have won by more than a point)\n",
    "under_bet_inputs['bet_is_smart'] = np.where((under_bet_inputs['awayScore']+under_bet_inputs['homeScore'])<(under_bet_inputs['over_under']-1), 1, 0)"
   ]
  },
  {
   "cell_type": "code",
   "execution_count": 30,
   "metadata": {},
   "outputs": [],
   "source": [
    "#For home_bet_inputs create a target field that shows whether a home bet would have been smart (would have won by more than a point)\n",
    "home_bet_inputs['bet_is_smart'] = np.where((home_bet_inputs['homeScore'] + home_bet_inputs['home_line'] - 1) > home_bet_inputs['awayScore'], 1, 0)"
   ]
  },
  {
   "cell_type": "code",
   "execution_count": 31,
   "metadata": {},
   "outputs": [],
   "source": [
    "#For away_bets_inputs create a target field that shows whether an away bet would have been smart (would have won by more than a point)\n",
    "away_bet_inputs['bet_is_smart'] = np.where((away_bet_inputs['homeScore'] + away_bet_inputs['home_line'] + 1) < away_bet_inputs['awayScore'], 1, 0)"
   ]
  },
  {
   "cell_type": "code",
   "execution_count": 32,
   "metadata": {},
   "outputs": [],
   "source": [
    "#Trim the score data from each of the data sets since it won't be available before games (obviously)\n",
    "over_bet_inputs.drop(labels=['homeScore', 'awayScore'], axis=1, inplace=True)\n",
    "under_bet_inputs.drop(labels=['homeScore', 'awayScore'], axis=1, inplace=True)\n",
    "home_bet_inputs.drop(labels=['homeScore', 'awayScore'], axis=1, inplace=True)\n",
    "away_bet_inputs.drop(labels=['homeScore', 'awayScore'], axis=1, inplace=True)"
   ]
  },
  {
   "cell_type": "code",
   "execution_count": 33,
   "metadata": {},
   "outputs": [],
   "source": [
    "#Triplicate the data so that we meet the minimum number of fields\n",
    "home_bet_inputs = home_bet_inputs.loc[np.repeat(home_bet_inputs.index.values, 3)]   \n",
    "away_bet_inputs = away_bet_inputs.loc[np.repeat(away_bet_inputs.index.values, 3)]  \n",
    "over_bet_inputs = over_bet_inputs.loc[np.repeat(over_bet_inputs.index.values, 3)]  \n",
    "under_bet_inputs = under_bet_inputs.loc[np.repeat(under_bet_inputs.index.values, 3)]  "
   ]
  },
  {
   "cell_type": "code",
   "execution_count": 34,
   "metadata": {},
   "outputs": [],
   "source": [
    "#Store the data to CSV\n",
    "bucketname = \"burgherjon-football-data\"\n",
    "home_key = \"input_data/home_bet_inputs.csv\"\n",
    "away_key = \"input_data/away_bet_inputs.csv\"\n",
    "over_key = \"input_data/over_bet_inputs.csv\"\n",
    "under_key = \"input_data/under_bet_inputs.csv\"\n",
    "\n",
    "s3 = boto3.resource('s3')\n",
    "\n",
    "over_bet_inputs.to_csv('over_bet_inputs.csv')\n",
    "s3.meta.client.upload_file('over_bet_inputs.csv', bucketname, over_key)\n",
    "\n",
    "under_bet_inputs.to_csv('under_bet_inputs.csv')\n",
    "s3.meta.client.upload_file('under_bet_inputs.csv', bucketname, under_key)\n",
    "\n",
    "away_bet_inputs.to_csv('away_bet_inputs.csv')\n",
    "s3.meta.client.upload_file('away_bet_inputs.csv', bucketname, away_key)\n",
    "\n",
    "home_bet_inputs.to_csv('home_bet_inputs.csv')\n",
    "s3.meta.client.upload_file('home_bet_inputs.csv', bucketname, home_key)\n"
   ]
  },
  {
   "cell_type": "code",
   "execution_count": 35,
   "metadata": {},
   "outputs": [
    {
     "name": "stdout",
     "output_type": "stream",
     "text": [
      "<class 'pandas.core.frame.DataFrame'>\n",
      "Int64Index: 672 entries, 0 to 223\n",
      "Data columns (total 15 columns):\n",
      " #   Column                     Non-Null Count  Dtype  \n",
      "---  ------                     --------------  -----  \n",
      " 0   awayTeam_ID                672 non-null    int64  \n",
      " 1   homeTeam_ID                672 non-null    int64  \n",
      " 2   over_under                 672 non-null    float64\n",
      " 3   home_line                  672 non-null    float64\n",
      " 4   home_team_average_for      672 non-null    float64\n",
      " 5   home_team_average_against  672 non-null    float64\n",
      " 6   away_team_average_for      672 non-null    float64\n",
      " 7   away_team_average_against  672 non-null    float64\n",
      " 8   over_bets                  672 non-null    int64  \n",
      " 9   under_bets                 672 non-null    int64  \n",
      " 10  home_bets                  672 non-null    int64  \n",
      " 11  away_bets                  672 non-null    int64  \n",
      " 12  final_line                 672 non-null    float64\n",
      " 13  final_over_under           672 non-null    float64\n",
      " 14  bet_is_smart               672 non-null    int64  \n",
      "dtypes: float64(8), int64(7)\n",
      "memory usage: 84.0 KB\n"
     ]
    }
   ],
   "source": [
    "away_bet_inputs.info()"
   ]
  },
  {
   "cell_type": "code",
   "execution_count": 36,
   "metadata": {},
   "outputs": [
    {
     "name": "stdout",
     "output_type": "stream",
     "text": [
      "<class 'pandas.core.frame.DataFrame'>\n",
      "Int64Index: 672 entries, 0 to 223\n",
      "Data columns (total 15 columns):\n",
      " #   Column                     Non-Null Count  Dtype  \n",
      "---  ------                     --------------  -----  \n",
      " 0   awayTeam_ID                672 non-null    int64  \n",
      " 1   homeTeam_ID                672 non-null    int64  \n",
      " 2   over_under                 672 non-null    float64\n",
      " 3   home_line                  672 non-null    float64\n",
      " 4   home_team_average_for      672 non-null    float64\n",
      " 5   home_team_average_against  672 non-null    float64\n",
      " 6   away_team_average_for      672 non-null    float64\n",
      " 7   away_team_average_against  672 non-null    float64\n",
      " 8   over_bets                  672 non-null    int64  \n",
      " 9   under_bets                 672 non-null    int64  \n",
      " 10  home_bets                  672 non-null    int64  \n",
      " 11  away_bets                  672 non-null    int64  \n",
      " 12  final_line                 672 non-null    float64\n",
      " 13  final_over_under           672 non-null    float64\n",
      " 14  bet_is_smart               672 non-null    int64  \n",
      "dtypes: float64(8), int64(7)\n",
      "memory usage: 84.0 KB\n"
     ]
    }
   ],
   "source": [
    "home_bet_inputs.info()"
   ]
  },
  {
   "cell_type": "code",
   "execution_count": 37,
   "metadata": {},
   "outputs": [
    {
     "name": "stdout",
     "output_type": "stream",
     "text": [
      "<class 'pandas.core.frame.DataFrame'>\n",
      "Int64Index: 672 entries, 0 to 223\n",
      "Data columns (total 15 columns):\n",
      " #   Column                     Non-Null Count  Dtype  \n",
      "---  ------                     --------------  -----  \n",
      " 0   awayTeam_ID                672 non-null    int64  \n",
      " 1   homeTeam_ID                672 non-null    int64  \n",
      " 2   over_under                 672 non-null    float64\n",
      " 3   home_line                  672 non-null    float64\n",
      " 4   home_team_average_for      672 non-null    float64\n",
      " 5   home_team_average_against  672 non-null    float64\n",
      " 6   away_team_average_for      672 non-null    float64\n",
      " 7   away_team_average_against  672 non-null    float64\n",
      " 8   over_bets                  672 non-null    int64  \n",
      " 9   under_bets                 672 non-null    int64  \n",
      " 10  home_bets                  672 non-null    int64  \n",
      " 11  away_bets                  672 non-null    int64  \n",
      " 12  final_line                 672 non-null    float64\n",
      " 13  final_over_under           672 non-null    float64\n",
      " 14  bet_is_smart               672 non-null    int64  \n",
      "dtypes: float64(8), int64(7)\n",
      "memory usage: 84.0 KB\n"
     ]
    }
   ],
   "source": [
    "over_bet_inputs.info()"
   ]
  }
 ],
 "metadata": {
  "instance_type": "ml.t3.medium",
  "kernelspec": {
   "display_name": "Python 3 (Data Science)",
   "language": "python",
   "name": "python3__SAGEMAKER_INTERNAL__arn:aws:sagemaker:us-east-1:081325390199:image/datascience-1.0"
  },
  "language_info": {
   "codemirror_mode": {
    "name": "ipython",
    "version": 3
   },
   "file_extension": ".py",
   "mimetype": "text/x-python",
   "name": "python",
   "nbconvert_exporter": "python",
   "pygments_lexer": "ipython3",
   "version": "3.7.10"
  }
 },
 "nbformat": 4,
 "nbformat_minor": 4
}
