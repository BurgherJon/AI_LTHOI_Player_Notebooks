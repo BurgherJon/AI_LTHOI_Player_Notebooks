{
 "cells": [
  {
   "cell_type": "code",
   "execution_count": null,
   "metadata": {},
   "outputs": [],
   "source": [
    "#This workbook is about cleaning the data that was gathered from LTHOI player data and NFL game data."
   ]
  },
  {
   "cell_type": "code",
   "execution_count": null,
   "metadata": {},
   "outputs": [],
   "source": [
    "import pandas as pd  #For Bringing in the data and manipulating it\n",
    "import boto3 #For storing to and retreiving from s3\n",
    "import numpy as np #For using mathmatical functions to create the target fields"
   ]
  },
  {
   "cell_type": "code",
   "execution_count": null,
   "metadata": {},
   "outputs": [],
   "source": [
    "#Pull in the data... If you're not in the same workspace that you're using for creating the data, you'll need to get the CSV from S3.\n",
    "game_data = pd.read_csv('gathered_data.csv')"
   ]
  },
  {
   "cell_type": "code",
   "execution_count": null,
   "metadata": {},
   "outputs": [],
   "source": [
    "#Trim the start times because they don't matter.  They were only in the data to assist with querying the database.\n",
    "game_data.drop(labels=['originalStartTime', 'startTime'], axis=1, inplace=True)"
   ]
  },
  {
   "cell_type": "code",
   "execution_count": null,
   "metadata": {},
   "outputs": [],
   "source": [
    "#trim the extra column with the two columns that kept track of week and game in week\n",
    "game_data.drop(labels=['week'], axis=1, inplace=True)\n",
    "game_data = game_data.loc[:, ~game_data.columns.str.contains('Unnamed')]"
   ]
  },
  {
   "cell_type": "code",
   "execution_count": null,
   "metadata": {},
   "outputs": [],
   "source": [
    "#Create seperate Pandas for over bets, under bets, home bets, and away bets\n",
    "over_bet_inputs = game_data\n",
    "under_bet_inputs = game_data\n",
    "home_bet_inputs = game_data\n",
    "away_bet_inputs = game_data"
   ]
  },
  {
   "cell_type": "code",
   "execution_count": null,
   "metadata": {},
   "outputs": [],
   "source": [
    "#For over_bet_inputs create a target field that shows whether an over bet would have been smart (would have won by more than a point)\n",
    "over_bet_inputs['bet_is_smart'] = np.where((over_bet_inputs['awayScore']+over_bet_inputs['homeScore'])>(over_bet_inputs['over_under']+1), 1, 0)"
   ]
  },
  {
   "cell_type": "code",
   "execution_count": null,
   "metadata": {},
   "outputs": [],
   "source": [
    "#For under_bet_inputs create a target field that shows whether an under bet would have been smart (would have won by more than a point)\n",
    "under_bet_inputs['bet_is_smart'] = np.where((under_bet_inputs['awayScore']+under_bet_inputs['homeScore'])<(under_bet_inputs['over_under']-1), 1, 0)"
   ]
  },
  {
   "cell_type": "code",
   "execution_count": null,
   "metadata": {},
   "outputs": [],
   "source": [
    "#For home_bet_inputs create a target field that shows whether a home bet would have been smart (would have won by more than a point)\n",
    "home_bet_inputs['bet_is_smart'] = np.where((home_bet_inputs['homeScore'] + home_bet_inputs['home_line'] - 1) > home_bet_inputs['awayScore'], 1, 0)"
   ]
  },
  {
   "cell_type": "code",
   "execution_count": null,
   "metadata": {},
   "outputs": [],
   "source": [
    "#For away_bets_inputs create a target field that shows whether an away bet would have been smart (would have won by more than a point)\n",
    "away_bet_inputs['bet_is_smart'] = np.where((away_bet_inputs['homeScore'] + away_bet_inputs['home_line'] + 1) < away_bet_inputs['awayScore'], 1, 0)"
   ]
  },
  {
   "cell_type": "code",
   "execution_count": null,
   "metadata": {},
   "outputs": [],
   "source": [
    "#Triplicate the data so that we meet the minimum number of fields\n",
    "home_bet_inputs = home_bet_inputs.loc[np.repeat(home_bet_inputs.index.values, 3)]   \n",
    "away_bet_inputs = away_bet_inputs.loc[np.repeat(away_bet_inputs.index.values, 3)]  \n",
    "over_bet_inputs = home_bet_inputs.loc[np.repeat(home_bet_inputs.index.values, 3)]  \n",
    "home_bet_inputs = home_bet_inputs.loc[np.repeat(home_bet_inputs.index.values, 3)]  "
   ]
  },
  {
   "cell_type": "code",
   "execution_count": null,
   "metadata": {},
   "outputs": [],
   "source": [
    "#Store the data to CSV\n",
    "bucketname = \"burgherjon-football-data\"\n",
    "home_key = \"input_data/home_bet_inputs.csv\"\n",
    "away_key = \"input_data/away_bet_inputs.csv\"\n",
    "over_key = \"input_data/over_bet_inputs.csv\"\n",
    "under_key = \"input_data/under_bet_inputs.csv\"\n",
    "\n",
    "s3 = boto3.resource('s3')\n",
    "\n",
    "over_bet_inputs.to_csv('over_bet_inputs.csv')\n",
    "s3.meta.client.upload_file('over_bet_inputs.csv', bucketname, over_key)\n",
    "\n",
    "under_bet_inputs.to_csv('under_bet_inputs.csv')\n",
    "s3.meta.client.upload_file('under_bet_inputs.csv', bucketname, under_key)\n",
    "\n",
    "away_bet_inputs.to_csv('away_bet_inputs.csv')\n",
    "s3.meta.client.upload_file('away_bet_inputs.csv', bucketname, away_key)\n",
    "\n",
    "home_bet_inputs.to_csv('home_bet_inputs.csv')\n",
    "s3.meta.client.upload_file('home_bet_inputs.csv', bucketname, home_key)\n"
   ]
  },
  {
   "cell_type": "code",
   "execution_count": null,
   "metadata": {},
   "outputs": [],
   "source": []
  },
  {
   "cell_type": "code",
   "execution_count": null,
   "metadata": {},
   "outputs": [],
   "source": []
  }
 ],
 "metadata": {
  "instance_type": "ml.t3.medium",
  "kernelspec": {
   "display_name": "Python 3 (Data Science)",
   "language": "python",
   "name": "python3__SAGEMAKER_INTERNAL__arn:aws:sagemaker:us-east-1:081325390199:image/datascience-1.0"
  },
  "language_info": {
   "codemirror_mode": {
    "name": "ipython",
    "version": 3
   },
   "file_extension": ".py",
   "mimetype": "text/x-python",
   "name": "python",
   "nbconvert_exporter": "python",
   "pygments_lexer": "ipython3",
   "version": "3.7.10"
  }
 },
 "nbformat": 4,
 "nbformat_minor": 4
}
